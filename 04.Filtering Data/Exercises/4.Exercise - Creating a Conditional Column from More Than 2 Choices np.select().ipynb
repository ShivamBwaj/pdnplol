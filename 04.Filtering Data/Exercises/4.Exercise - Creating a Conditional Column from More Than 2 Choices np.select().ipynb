{
 "cells": [
  {
   "cell_type": "code",
   "execution_count": null,
   "id": "acee6c9f",
   "metadata": {},
   "outputs": [],
   "source": [
    "import pandas as pd"
   ]
  },
  {
   "cell_type": "code",
   "execution_count": null,
   "id": "5349f28e",
   "metadata": {
    "scrolled": false
   },
   "outputs": [],
   "source": [
    "df_laptops = pd.read_csv('laptop_price.csv')"
   ]
  },
  {
   "cell_type": "code",
   "execution_count": null,
   "id": "836a3c5b",
   "metadata": {
    "scrolled": true
   },
   "outputs": [],
   "source": [
    "df_laptops.head(3)"
   ]
  },
  {
   "cell_type": "markdown",
   "id": "2cf6d971",
   "metadata": {},
   "source": [
    "# Exercise"
   ]
  },
  {
   "cell_type": "code",
   "execution_count": null,
   "id": "9f389a6c",
   "metadata": {},
   "outputs": [],
   "source": [
    "# create an array based on multiple screen size tiers (+2 choices)\n",
    "# Too Big>16, Big>14, Small>12, Too Small<12\n",
    "\n",
    "# create \"conditions\" and \"values\" variables\n"
   ]
  },
  {
   "cell_type": "code",
   "execution_count": null,
   "id": "35d9a748",
   "metadata": {},
   "outputs": [],
   "source": [
    "# set it to a new column \"Screen_size\"\n"
   ]
  },
  {
   "cell_type": "code",
   "execution_count": null,
   "id": "ece73b9f",
   "metadata": {},
   "outputs": [],
   "source": [
    "# show dataframe\n"
   ]
  },
  {
   "cell_type": "code",
   "execution_count": null,
   "id": "55528440",
   "metadata": {},
   "outputs": [],
   "source": [
    "# count values inside \"Screen_size\" column\n"
   ]
  }
 ],
 "metadata": {
  "kernelspec": {
   "display_name": "Python 3",
   "language": "python",
   "name": "python3"
  },
  "language_info": {
   "codemirror_mode": {
    "name": "ipython",
    "version": 3
   },
   "file_extension": ".py",
   "mimetype": "text/x-python",
   "name": "python",
   "nbconvert_exporter": "python",
   "pygments_lexer": "ipython3",
   "version": "3.8.8"
  },
  "toc": {
   "base_numbering": 1,
   "nav_menu": {},
   "number_sections": true,
   "sideBar": true,
   "skip_h1_title": false,
   "title_cell": "Table of Contents",
   "title_sidebar": "Contents",
   "toc_cell": false,
   "toc_position": {},
   "toc_section_display": true,
   "toc_window_display": false
  }
 },
 "nbformat": 4,
 "nbformat_minor": 5
}
