{
 "cells": [
  {
   "cell_type": "markdown",
   "id": "718d8136-37f1-43db-8f2f-7906719e99a3",
   "metadata": {},
   "source": [
    "# TITLE\n"
   ]
  },
  {
   "cell_type": "markdown",
   "id": "f95afdf4-277b-4873-b11a-3e221c1bc2db",
   "metadata": {},
   "source": [
    "## 1.1 Lists"
   ]
  },
  {
   "cell_type": "code",
   "execution_count": 3,
   "id": "26cc061d-b038-4424-88a0-64af100a9155",
   "metadata": {},
   "outputs": [
    {
     "name": "stdout",
     "output_type": "stream",
     "text": [
      "hi\n"
     ]
    }
   ],
   "source": [
    "print('hi')"
   ]
  },
  {
   "cell_type": "code",
   "execution_count": 4,
   "id": "68c5243e-5e81-4c85-aad1-3252d81a7939",
   "metadata": {},
   "outputs": [
    {
     "data": {
      "text/plain": [
       "['US', 'INDIA', 'China', 'Brazil']"
      ]
     },
     "execution_count": 4,
     "metadata": {},
     "output_type": "execute_result"
    }
   ],
   "source": [
    "countries=['US','INDIA','China','Brazil']\n",
    "countries"
   ]
  },
  {
   "cell_type": "code",
   "execution_count": 5,
   "id": "39c7f460-a7ac-4083-b2b8-cdca625eb6c8",
   "metadata": {},
   "outputs": [
    {
     "name": "stdout",
     "output_type": "stream",
     "text": [
      "US\n",
      "INDIA\n",
      "China\n",
      "Brazil\n"
     ]
    }
   ],
   "source": [
    "print(countries[0])\n",
    "print(countries[1])\n",
    "print(countries[2])\n",
    "print(countries[3])\n"
   ]
  },
  {
   "cell_type": "code",
   "execution_count": 6,
   "id": "3c35ada9-6f8d-4a66-b601-19441ff9dd50",
   "metadata": {},
   "outputs": [
    {
     "name": "stdout",
     "output_type": "stream",
     "text": [
      "Brazil\n",
      "China\n",
      "INDIA\n",
      "US\n"
     ]
    }
   ],
   "source": [
    "print(countries[-1])\n",
    "print(countries[-2])\n",
    "print(countries[-3])\n",
    "print(countries[-4])\n"
   ]
  },
  {
   "cell_type": "code",
   "execution_count": 7,
   "id": "a26c891d-8d43-47ed-83da-f298a11722e0",
   "metadata": {},
   "outputs": [
    {
     "name": "stdout",
     "output_type": "stream",
     "text": [
      "['US', 'INDIA']\n",
      "['INDIA', 'China', 'Brazil']\n",
      "['US', 'INDIA', 'China']\n"
     ]
    }
   ],
   "source": [
    "print(countries[0:2])  #slicing of list(array) , !! 2nd index not included !!\n",
    "print(countries[1:])\n",
    "print(countries[:3])"
   ]
  },
  {
   "cell_type": "markdown",
   "id": "b570bc62-d5e6-4962-be49-46dd7b731f6c",
   "metadata": {},
   "source": [
    "#### 1.2 Adding elements in list"
   ]
  },
  {
   "cell_type": "code",
   "execution_count": 8,
   "id": "8b3de0cb-4b2b-4790-b3ac-a69a120fc912",
   "metadata": {},
   "outputs": [
    {
     "data": {
      "text/plain": [
       "['US', 'INDIA', 'China', 'Brazil', 'Canada']"
      ]
     },
     "execution_count": 8,
     "metadata": {},
     "output_type": "execute_result"
    }
   ],
   "source": [
    "countries.append('Canada')\n",
    "countries"
   ]
  },
  {
   "cell_type": "code",
   "execution_count": 9,
   "id": "5c4e7dde-1964-4c84-bca9-31d3663b592e",
   "metadata": {},
   "outputs": [
    {
     "data": {
      "text/plain": [
       "['Spain', 'US', 'INDIA', 'China', 'Brazil', 'Canada']"
      ]
     },
     "execution_count": 9,
     "metadata": {},
     "output_type": "execute_result"
    }
   ],
   "source": [
    "countries.insert(0, 'Spain') #insert at 0th index and element is spain\n",
    "countries"
   ]
  },
  {
   "cell_type": "code",
   "execution_count": 10,
   "id": "a1cfaf71-3dc4-444d-995c-d7039a40fafb",
   "metadata": {},
   "outputs": [
    {
     "name": "stdout",
     "output_type": "stream",
     "text": [
      "['UK', 'Germany', 'Austria']\n",
      "['Spain', 'US', 'INDIA', 'China', 'Brazil', 'Canada', 'UK', 'Germany', 'Austria']\n"
     ]
    }
   ],
   "source": [
    "countries2=['UK' ,'Germany','Austria']\n",
    "print(countries2)\n",
    "print(countries+countries2)"
   ]
  },
  {
   "cell_type": "code",
   "execution_count": 11,
   "id": "59f0ea7d-0e05-47bb-969e-4abd4de2933c",
   "metadata": {},
   "outputs": [],
   "source": [
    "nested_list=[countries,countries2]"
   ]
  },
  {
   "cell_type": "code",
   "execution_count": 12,
   "id": "1525e2cb-efa1-454f-94eb-69d25df30e38",
   "metadata": {},
   "outputs": [
    {
     "data": {
      "text/plain": [
       "[['Spain', 'US', 'INDIA', 'China', 'Brazil', 'Canada'],\n",
       " ['UK', 'Germany', 'Austria']]"
      ]
     },
     "execution_count": 12,
     "metadata": {},
     "output_type": "execute_result"
    }
   ],
   "source": [
    "nested_list"
   ]
  },
  {
   "cell_type": "code",
   "execution_count": 13,
   "id": "13d4575d-77db-43a6-a5ce-ce0d1165e766",
   "metadata": {},
   "outputs": [],
   "source": [
    "countries.remove('US')"
   ]
  },
  {
   "cell_type": "code",
   "execution_count": 14,
   "id": "0b5d69c2-f991-4ddf-a4f4-55d63ddbb301",
   "metadata": {},
   "outputs": [
    {
     "data": {
      "text/plain": [
       "['Spain', 'INDIA', 'China', 'Brazil', 'Canada']"
      ]
     },
     "execution_count": 14,
     "metadata": {},
     "output_type": "execute_result"
    }
   ],
   "source": [
    "countries"
   ]
  },
  {
   "cell_type": "code",
   "execution_count": 16,
   "id": "38b9fb87-7051-4633-9d2e-971c4eed1e59",
   "metadata": {},
   "outputs": [
    {
     "data": {
      "text/plain": [
       "'Canada'"
      ]
     },
     "execution_count": 16,
     "metadata": {},
     "output_type": "execute_result"
    }
   ],
   "source": [
    "countries.pop(-1) #last element removal"
   ]
  },
  {
   "cell_type": "code",
   "execution_count": 17,
   "id": "b6b4b0a5-981d-497f-bf8f-ff04730cb14e",
   "metadata": {},
   "outputs": [
    {
     "data": {
      "text/plain": [
       "['Spain', 'INDIA', 'China', 'Brazil']"
      ]
     },
     "execution_count": 17,
     "metadata": {},
     "output_type": "execute_result"
    }
   ],
   "source": [
    "countries"
   ]
  },
  {
   "cell_type": "code",
   "execution_count": 19,
   "id": "23bbd86b-c1ca-4043-8ab9-7b0a4ea969e8",
   "metadata": {},
   "outputs": [],
   "source": [
    "del countries[0] #index at 0th position got removed"
   ]
  },
  {
   "cell_type": "code",
   "execution_count": 20,
   "id": "82f64a4a-d4f2-48d0-8dc8-21eafed20e97",
   "metadata": {},
   "outputs": [
    {
     "data": {
      "text/plain": [
       "['China', 'Brazil']"
      ]
     },
     "execution_count": 20,
     "metadata": {},
     "output_type": "execute_result"
    }
   ],
   "source": [
    "countries"
   ]
  },
  {
   "cell_type": "code",
   "execution_count": 21,
   "id": "37461b27-4a32-485d-a117-ee14ce51a514",
   "metadata": {},
   "outputs": [],
   "source": [
    "num=[4,3,10,7,1,2]"
   ]
  },
  {
   "cell_type": "code",
   "execution_count": 24,
   "id": "a5640660-c947-451e-8e68-73294243085d",
   "metadata": {},
   "outputs": [
    {
     "name": "stdout",
     "output_type": "stream",
     "text": [
      "[1, 2, 3, 4, 7, 10]\n"
     ]
    }
   ],
   "source": [
    "num.sort()\n",
    "print(num) #asending order default"
   ]
  },
  {
   "cell_type": "code",
   "execution_count": 26,
   "id": "402b7841-7d36-4c31-8c6d-4860b8263ed4",
   "metadata": {},
   "outputs": [
    {
     "name": "stdout",
     "output_type": "stream",
     "text": [
      "[10, 7, 4, 3, 2, 1]\n"
     ]
    }
   ],
   "source": [
    "num=[4,3,10,7,1,2]\n",
    "num.sort(reverse=True)\n",
    "print(num) "
   ]
  },
  {
   "cell_type": "markdown",
   "id": "3b3c9091-e9ba-4036-ab58-93b2b94a31c0",
   "metadata": {},
   "source": [
    "#### update an element"
   ]
  },
  {
   "cell_type": "code",
   "execution_count": 27,
   "id": "fc0f76ab-818f-4ec0-8388-a330232f1657",
   "metadata": {},
   "outputs": [
    {
     "name": "stdout",
     "output_type": "stream",
     "text": [
      "[1000, 7, 4, 3, 2, 1]\n"
     ]
    }
   ],
   "source": [
    "num[0]=1000\n",
    "print(num)"
   ]
  },
  {
   "cell_type": "markdown",
   "id": "1eafe6c0-2f2e-42f2-8c4b-e9c2f8a2ca08",
   "metadata": {},
   "source": [
    "#### copy a list\n"
   ]
  },
  {
   "cell_type": "code",
   "execution_count": 32,
   "id": "fe1f7283-dfda-4b28-9fce-ae709c629135",
   "metadata": {},
   "outputs": [],
   "source": [
    "countries=['US','INDIA','China','Brazil']\n",
    "newLIST=countries[:]"
   ]
  },
  {
   "cell_type": "code",
   "execution_count": 33,
   "id": "58b03e48-5cc5-4cc0-9e22-3e3eb8c95395",
   "metadata": {},
   "outputs": [
    {
     "data": {
      "text/plain": [
       "['US', 'INDIA', 'China', 'Brazil']"
      ]
     },
     "execution_count": 33,
     "metadata": {},
     "output_type": "execute_result"
    }
   ],
   "source": [
    "newLIST"
   ]
  },
  {
   "cell_type": "code",
   "execution_count": 34,
   "id": "d9ff99c6-4f5b-4405-a0b6-eb2566e97a69",
   "metadata": {},
   "outputs": [
    {
     "name": "stdout",
     "output_type": "stream",
     "text": [
      "['US', 'INDIA', 'China', 'Brazil']\n"
     ]
    }
   ],
   "source": [
    "copied=countries.copy()\n",
    "print(copied)"
   ]
  },
  {
   "cell_type": "markdown",
   "id": "09eaee84-20ff-4f7e-919c-f497cb75ea7b",
   "metadata": {},
   "source": [
    "\n",
    "## DICTIONARY"
   ]
  },
  {
   "cell_type": "code",
   "execution_count": 35,
   "id": "8ac53c2e-34da-44e8-afe9-1521b75ab60a",
   "metadata": {},
   "outputs": [],
   "source": [
    "dict1={'key1':'value1','key2':'value2'}"
   ]
  },
  {
   "cell_type": "code",
   "execution_count": 36,
   "id": "a3540bf4-c431-43f8-a2aa-f2ad554f2e98",
   "metadata": {},
   "outputs": [],
   "source": [
    "data={'name':'Shivam','age':'19'}"
   ]
  },
  {
   "cell_type": "code",
   "execution_count": 37,
   "id": "2e90937b-37bf-4ead-ada1-8c2fedbc1a8a",
   "metadata": {},
   "outputs": [
    {
     "data": {
      "text/plain": [
       "{'name': 'Shivam', 'age': '19'}"
      ]
     },
     "execution_count": 37,
     "metadata": {},
     "output_type": "execute_result"
    }
   ],
   "source": [
    "data"
   ]
  },
  {
   "cell_type": "code",
   "execution_count": 38,
   "id": "963b0f50-1250-43a8-bf0d-a317df28e63e",
   "metadata": {},
   "outputs": [
    {
     "data": {
      "text/plain": [
       "dict_keys(['name', 'age'])"
      ]
     },
     "execution_count": 38,
     "metadata": {},
     "output_type": "execute_result"
    }
   ],
   "source": [
    "data.keys()"
   ]
  },
  {
   "cell_type": "code",
   "execution_count": 39,
   "id": "5c2e1afb-0295-4d4c-a7bd-c54318f0b100",
   "metadata": {},
   "outputs": [
    {
     "data": {
      "text/plain": [
       "dict_values(['Shivam', '19'])"
      ]
     },
     "execution_count": 39,
     "metadata": {},
     "output_type": "execute_result"
    }
   ],
   "source": [
    "data.values()"
   ]
  },
  {
   "cell_type": "code",
   "execution_count": 40,
   "id": "2fed6b01-3e4c-4ee1-a6c5-9d01c8d35721",
   "metadata": {},
   "outputs": [
    {
     "data": {
      "text/plain": [
       "dict_items([('name', 'Shivam'), ('age', '19')])"
      ]
     },
     "execution_count": 40,
     "metadata": {},
     "output_type": "execute_result"
    }
   ],
   "source": [
    "data.items()"
   ]
  },
  {
   "cell_type": "code",
   "execution_count": 41,
   "id": "100b4585-a4d5-4a56-98a0-e081fba070ce",
   "metadata": {},
   "outputs": [],
   "source": [
    "data['height']=1.7"
   ]
  },
  {
   "cell_type": "code",
   "execution_count": 42,
   "id": "0b8dc829-9940-4ed9-8e52-18d082d0c5d9",
   "metadata": {},
   "outputs": [
    {
     "data": {
      "text/plain": [
       "{'name': 'Shivam', 'age': '19', 'height': 1.7}"
      ]
     },
     "execution_count": 42,
     "metadata": {},
     "output_type": "execute_result"
    }
   ],
   "source": [
    "data"
   ]
  },
  {
   "cell_type": "markdown",
   "id": "6dcc4fab-2cae-4109-9d26-5d3d120331a2",
   "metadata": {},
   "source": [
    "data.update({'height':1.8})"
   ]
  },
  {
   "cell_type": "code",
   "execution_count": 44,
   "id": "915f351e-4cc4-4e64-9e8e-b1de51da8fb9",
   "metadata": {},
   "outputs": [
    {
     "data": {
      "text/plain": [
       "{'name': 'Shivam', 'age': '19', 'height': 1.8}"
      ]
     },
     "execution_count": 44,
     "metadata": {},
     "output_type": "execute_result"
    }
   ],
   "source": [
    "data"
   ]
  },
  {
   "cell_type": "markdown",
   "id": "5877fe25-e91e-457d-b2fb-d7bf129e2316",
   "metadata": {},
   "source": [
    "#### copy of a dictionary"
   ]
  },
  {
   "cell_type": "code",
   "execution_count": 50,
   "id": "826104e4-969b-494d-9c9d-e5fcee2437b9",
   "metadata": {},
   "outputs": [],
   "source": [
    "new_dict=data.copy()  ##creates a static copy of the dict at the time of execution "
   ]
  },
  {
   "cell_type": "code",
   "execution_count": 46,
   "id": "32e11f98-3b89-491c-bc3c-989099690f5d",
   "metadata": {},
   "outputs": [
    {
     "data": {
      "text/plain": [
       "{'name': 'Shivam', 'age': '19', 'height': 1.8}"
      ]
     },
     "execution_count": 46,
     "metadata": {},
     "output_type": "execute_result"
    }
   ],
   "source": [
    "new_dict"
   ]
  },
  {
   "cell_type": "code",
   "execution_count": 49,
   "id": "81e01ceb-556e-4db4-b4af-453d2d5c80c4",
   "metadata": {},
   "outputs": [],
   "source": [
    "newDICT2= data ##creates a active non static copy of dictionary so if a value is modified in first dict , it gonna affect the linked one too"
   ]
  },
  {
   "cell_type": "code",
   "execution_count": 48,
   "id": "f6a50d3f-9f99-43f9-b54b-4ea69a59757f",
   "metadata": {},
   "outputs": [
    {
     "data": {
      "text/plain": [
       "{'name': 'Shivam', 'age': '19', 'height': 1.8}"
      ]
     },
     "execution_count": 48,
     "metadata": {},
     "output_type": "execute_result"
    }
   ],
   "source": [
    "newDICT2"
   ]
  },
  {
   "cell_type": "markdown",
   "id": "23810a28-e4e7-4eb8-87af-4d9d1fd405b8",
   "metadata": {},
   "source": [
    "#### remove element"
   ]
  },
  {
   "cell_type": "code",
   "execution_count": 52,
   "id": "88058819-2677-471c-8c2e-0ff2f8fe46d5",
   "metadata": {},
   "outputs": [
    {
     "data": {
      "text/plain": [
       "'Shivam'"
      ]
     },
     "execution_count": 52,
     "metadata": {},
     "output_type": "execute_result"
    }
   ],
   "source": [
    "data.pop('name')"
   ]
  },
  {
   "cell_type": "code",
   "execution_count": 53,
   "id": "80417657-3906-4601-895f-5055fda6bf4c",
   "metadata": {},
   "outputs": [
    {
     "data": {
      "text/plain": [
       "{'age': '19', 'height': 1.8}"
      ]
     },
     "execution_count": 53,
     "metadata": {},
     "output_type": "execute_result"
    }
   ],
   "source": [
    "data"
   ]
  },
  {
   "cell_type": "code",
   "execution_count": 54,
   "id": "a0e4a16a-dbc0-452e-8ab9-91b201375e92",
   "metadata": {},
   "outputs": [],
   "source": [
    "del data['age']"
   ]
  },
  {
   "cell_type": "code",
   "execution_count": 55,
   "id": "eb444e4c-bbaa-4ff4-bc7c-b9b8fed06c64",
   "metadata": {},
   "outputs": [
    {
     "data": {
      "text/plain": [
       "{'height': 1.8}"
      ]
     },
     "execution_count": 55,
     "metadata": {},
     "output_type": "execute_result"
    }
   ],
   "source": [
    "data"
   ]
  },
  {
   "cell_type": "code",
   "execution_count": 56,
   "id": "da6cb93c-cbbc-4abc-9c63-6bb0da893954",
   "metadata": {},
   "outputs": [],
   "source": [
    "data.clear()"
   ]
  },
  {
   "cell_type": "code",
   "execution_count": 57,
   "id": "4e8b7811-5778-40ec-a979-b5aab85b616e",
   "metadata": {},
   "outputs": [
    {
     "data": {
      "text/plain": [
       "{}"
      ]
     },
     "execution_count": 57,
     "metadata": {},
     "output_type": "execute_result"
    }
   ],
   "source": [
    "data"
   ]
  },
  {
   "cell_type": "markdown",
   "id": "dbf42167-c8c1-48b7-9a5b-885ff82b94a5",
   "metadata": {},
   "source": [
    "# MODULES"
   ]
  },
  {
   "cell_type": "code",
   "execution_count": 58,
   "id": "6c371f7b-5987-4920-9080-f449d45f1bdc",
   "metadata": {},
   "outputs": [],
   "source": [
    "import os"
   ]
  },
  {
   "cell_type": "code",
   "execution_count": 59,
   "id": "cbebd225-1f59-47ad-babb-f1edf2563b95",
   "metadata": {},
   "outputs": [
    {
     "data": {
      "text/plain": [
       "'C:\\\\Users\\\\Loq\\\\anaconda scripts'"
      ]
     },
     "execution_count": 59,
     "metadata": {},
     "output_type": "execute_result"
    }
   ],
   "source": [
    "os.getcwd()"
   ]
  },
  {
   "cell_type": "code",
   "execution_count": 60,
   "id": "e40d61b7-4975-4c9c-bebb-7ca413fdaf60",
   "metadata": {},
   "outputs": [
    {
     "data": {
      "text/plain": [
       "['.ipynb_checkpoints', '1st notebook.ipynb']"
      ]
     },
     "execution_count": 60,
     "metadata": {},
     "output_type": "execute_result"
    }
   ],
   "source": [
    "os.listdir()"
   ]
  },
  {
   "cell_type": "code",
   "execution_count": 61,
   "id": "791fa33b-7f17-4d53-80b2-77d32ae62e71",
   "metadata": {},
   "outputs": [],
   "source": [
    "os.makedirs(\"test Folder\")"
   ]
  },
  {
   "cell_type": "code",
   "execution_count": 62,
   "id": "59cba18c-21ee-4b60-97e2-cdf9069807f4",
   "metadata": {},
   "outputs": [
    {
     "data": {
      "text/plain": [
       "['.ipynb_checkpoints', '1st notebook.ipynb', 'test Folder']"
      ]
     },
     "execution_count": 62,
     "metadata": {},
     "output_type": "execute_result"
    }
   ],
   "source": [
    "os.listdir()"
   ]
  },
  {
   "cell_type": "code",
   "execution_count": null,
   "id": "f2df681d-b7da-4c3d-8737-51db01e1ef54",
   "metadata": {},
   "outputs": [],
   "source": []
  }
 ],
 "metadata": {
  "kernelspec": {
   "display_name": "Python 3 (ipykernel)",
   "language": "python",
   "name": "python3"
  },
  "language_info": {
   "codemirror_mode": {
    "name": "ipython",
    "version": 3
   },
   "file_extension": ".py",
   "mimetype": "text/x-python",
   "name": "python",
   "nbconvert_exporter": "python",
   "pygments_lexer": "ipython3",
   "version": "3.13.5"
  }
 },
 "nbformat": 4,
 "nbformat_minor": 5
}
